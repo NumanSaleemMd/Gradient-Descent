{
  "nbformat": 4,
  "nbformat_minor": 0,
  "metadata": {
    "colab": {
      "name": "GradientDescent.ipynb",
      "version": "0.3.2",
      "provenance": [],
      "collapsed_sections": []
    },
    "kernelspec": {
      "name": "python3",
      "display_name": "Python 3"
    }
  },
  "cells": [
    {
      "cell_type": "markdown",
      "metadata": {
        "id": "pWga4WTCHRL_",
        "colab_type": "text"
      },
      "source": [
        "# Gradient Descent"
      ]
    },
    {
      "cell_type": "code",
      "metadata": {
        "id": "c2B6AmKnBhaQ",
        "colab_type": "code",
        "colab": {}
      },
      "source": [
        "import numpy as np"
      ],
      "execution_count": 0,
      "outputs": []
    },
    {
      "cell_type": "markdown",
      "metadata": {
        "id": "PfmM5u9vGdf7",
        "colab_type": "text"
      },
      "source": [
        "# Defining activation function and its derivative"
      ]
    },
    {
      "cell_type": "code",
      "metadata": {
        "id": "HtHI4HOpCbF2",
        "colab_type": "code",
        "colab": {}
      },
      "source": [
        "#let function be sigmoid\n",
        "def sigmoid(x):\n",
        "  return 1/(1+np.exp(-x))\n",
        "#derivative of given function\n",
        "def sigmoid_dev(x):\n",
        "  return (sigmoid(x) * (1 - sigmoid(x)))"
      ],
      "execution_count": 0,
      "outputs": []
    },
    {
      "cell_type": "markdown",
      "metadata": {
        "id": "PnLo4-54GDRC",
        "colab_type": "text"
      },
      "source": [
        "# Initialize Data"
      ]
    },
    {
      "cell_type": "code",
      "metadata": {
        "id": "F6sQxBGQC6Mu",
        "colab_type": "code",
        "colab": {}
      },
      "source": [
        "learnrate=0.5\n",
        "#input data\n",
        "x = np.array([1, 2, 3, 4])\n",
        "y = np.array(0.5)\n",
        "\n",
        "# Initial weights\n",
        "w = np.array([0.5, -0.5, 0.3, 0.1])"
      ],
      "execution_count": 0,
      "outputs": []
    },
    {
      "cell_type": "markdown",
      "metadata": {
        "id": "IAvp-SLKFxU0",
        "colab_type": "text"
      },
      "source": [
        "# Find Error Due to Model"
      ]
    },
    {
      "cell_type": "code",
      "metadata": {
        "id": "ouYf_qEZDVR4",
        "colab_type": "code",
        "colab": {
          "base_uri": "https://localhost:8080/",
          "height": 34
        },
        "outputId": "ace537f6-33e4-4b23-db1a-4c02498b1d6a"
      },
      "source": [
        "h=np.dot(w,x)\n",
        "predicate=sigmoid(h)\n",
        "error=abs(predicate-y)\n",
        "error"
      ],
      "execution_count": 8,
      "outputs": [
        {
          "output_type": "execute_result",
          "data": {
            "text/plain": [
              "0.1899744811276125"
            ]
          },
          "metadata": {
            "tags": []
          },
          "execution_count": 8
        }
      ]
    },
    {
      "cell_type": "markdown",
      "metadata": {
        "id": "JSiQAQozFiJG",
        "colab_type": "text"
      },
      "source": [
        "# Finding Error rate"
      ]
    },
    {
      "cell_type": "code",
      "metadata": {
        "id": "pH17u_09D9qi",
        "colab_type": "code",
        "colab": {}
      },
      "source": [
        "error_term = (sigmoid_dev(h)/len(x))*learnrate\n"
      ],
      "execution_count": 0,
      "outputs": []
    },
    {
      "cell_type": "markdown",
      "metadata": {
        "id": "Xwp9w7LFFRFu",
        "colab_type": "text"
      },
      "source": [
        "# Find Delta Weights using Error"
      ]
    },
    {
      "cell_type": "code",
      "metadata": {
        "id": "hFfUgJ3PEea_",
        "colab_type": "code",
        "colab": {
          "base_uri": "https://localhost:8080/",
          "height": 34
        },
        "outputId": "9790aa4d-8985-44ba-9a28-6f68fa0180dc"
      },
      "source": [
        "delta_w=w-error_term\n",
        "delta_w"
      ],
      "execution_count": 19,
      "outputs": [
        {
          "output_type": "execute_result",
          "data": {
            "text/plain": [
              "array([ 0.47326129, -0.52673871,  0.27326129,  0.07326129])"
            ]
          },
          "metadata": {
            "tags": []
          },
          "execution_count": 19
        }
      ]
    },
    {
      "cell_type": "markdown",
      "metadata": {
        "id": "-f5eRj70HtmV",
        "colab_type": "text"
      },
      "source": [
        "# Observing Results"
      ]
    },
    {
      "cell_type": "code",
      "metadata": {
        "id": "JquIvPJyE8ia",
        "colab_type": "code",
        "colab": {
          "base_uri": "https://localhost:8080/",
          "height": 118
        },
        "outputId": "d9306a4e-326c-4e1e-ae25-5aa2ee996628"
      },
      "source": [
        "print('Neural Network output:')\n",
        "print(predicate)\n",
        "print('Amount of Error:')\n",
        "print(error)\n",
        "print('Change in Weights:')\n",
        "print(delta_w)"
      ],
      "execution_count": 20,
      "outputs": [
        {
          "output_type": "stream",
          "text": [
            "Neural Network output:\n",
            "0.6899744811276125\n",
            "Amount of Error:\n",
            "0.1899744811276125\n",
            "Change in Weights:\n",
            "[ 0.47326129 -0.52673871  0.27326129  0.07326129]\n"
          ],
          "name": "stdout"
        }
      ]
    }
  ]
}